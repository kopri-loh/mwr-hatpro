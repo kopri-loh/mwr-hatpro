{
 "cells": [
  {
   "cell_type": "code",
   "execution_count": 1,
   "metadata": {},
   "outputs": [],
   "source": [
    "import struct as st\n",
    "import datetime"
   ]
  },
  {
   "cell_type": "code",
   "execution_count": 2,
   "metadata": {},
   "outputs": [],
   "source": [
    "# Load sample IRT data\n",
    "f = open(\"../data/ZENITH_220411_230827.IRT\", \"rb\")\n",
    "bin = f.read()"
   ]
  },
  {
   "cell_type": "code",
   "execution_count": 3,
   "metadata": {},
   "outputs": [],
   "source": [
    "# Define getter\n",
    "def b_unpack(bd, pos, type='i'):\n",
    "    if type in ['i', 'f']:\n",
    "        return st.unpack(type, bd[pos:pos+4])\n",
    "    elif type == 'd':\n",
    "        return st.unpack(type, bd[pos:pos+8])\n",
    "    elif type == 'b':\n",
    "        return st.unpack(type, bd[pos:pos+1])\n",
    "    else:\n",
    "        raise TypeError(\"Invalid Type Reference\")"
   ]
  },
  {
   "cell_type": "code",
   "execution_count": 4,
   "metadata": {},
   "outputs": [
    {
     "name": "stdout",
     "output_type": "stream",
     "text": [
      "671112496\n"
     ]
    }
   ],
   "source": [
    "# IRT file code (671112496)\n",
    "print(b_unpack(bin, 0)[0])"
   ]
  },
  {
   "cell_type": "code",
   "execution_count": 5,
   "metadata": {},
   "outputs": [
    {
     "name": "stdout",
     "output_type": "stream",
     "text": [
      "1255\n"
     ]
    }
   ],
   "source": [
    "# Number of recorded samples\n",
    "sample_n = b_unpack(bin, 4)[0]\n",
    "print(sample_n)"
   ]
  },
  {
   "cell_type": "code",
   "execution_count": 6,
   "metadata": {},
   "outputs": [
    {
     "name": "stdout",
     "output_type": "stream",
     "text": [
      "2\n"
     ]
    }
   ],
   "source": [
    "# Number of recorded IRRs\n",
    "rec_n = b_unpack(bin, 20)[0]\n",
    "print(rec_n)"
   ]
  },
  {
   "cell_type": "markdown",
   "metadata": {},
   "source": [
    " The above two variables give the number of rows for the resulting data record, which in this case is header + sample_n * rec_n = 1 + 1255 * 2 = 2511."
   ]
  },
  {
   "cell_type": "code",
   "execution_count": 7,
   "metadata": {},
   "outputs": [
    {
     "name": "stdout",
     "output_type": "stream",
     "text": [
      "(11.100000381469727,)\n",
      "(12.0,)\n"
     ]
    }
   ],
   "source": [
    "# Get the two (= rec_n) frequencies from the record\n",
    "for i in range(rec_n):\n",
    "    print(b_unpack(bin, 24+(i*4), type='f'))"
   ]
  },
  {
   "cell_type": "code",
   "execution_count": 8,
   "metadata": {},
   "outputs": [],
   "source": [
    "# Define start of the data dump\n",
    "pos_0 = 24 + (4 * rec_n)"
   ]
  },
  {
   "cell_type": "code",
   "execution_count": 9,
   "metadata": {},
   "outputs": [],
   "source": [
    "def get_date(time):\n",
    "    d_0 = datetime.datetime(2001, 1, 1)\n",
    "    return d_0 + datetime.timedelta(seconds=time)\n"
   ]
  },
  {
   "cell_type": "code",
   "execution_count": 10,
   "metadata": {},
   "outputs": [
    {
     "name": "stdout",
     "output_type": "stream",
     "text": [
      "2022-04-11 23:08:27\n"
     ]
    }
   ],
   "source": [
    "# Get and translate time\n",
    "time = b_unpack(bin, pos_0, type='i')[0]\n",
    "\n",
    "print(get_date(time))"
   ]
  },
  {
   "cell_type": "code",
   "execution_count": 11,
   "metadata": {},
   "outputs": [],
   "source": [
    "# Get data row\n",
    "rf = b_unpack(bin, pos_0+4, type='b')[0]\n",
    "irt_0 = b_unpack(bin, pos_0+5, type='f')[0]\n",
    "irt_1 = b_unpack(bin, pos_0+9, type='f')[0]\n",
    "ang = b_unpack(bin, pos_0+13, type='f')[0] / 1.e3\n",
    "\n",
    "if ang > 0:\n",
    "    elev = (ang - int(ang)) * 1.e3\n",
    "else:\n",
    "    elev = (int(ang) - ang) * 1.e3"
   ]
  },
  {
   "cell_type": "code",
   "execution_count": null,
   "metadata": {},
   "outputs": [],
   "source": []
  }
 ],
 "metadata": {
  "kernelspec": {
   "display_name": "Python 3.9.13",
   "language": "python",
   "name": "python3"
  },
  "language_info": {
   "codemirror_mode": {
    "name": "ipython",
    "version": 3
   },
   "file_extension": ".py",
   "mimetype": "text/x-python",
   "name": "python",
   "nbconvert_exporter": "python",
   "pygments_lexer": "ipython3",
   "version": "3.9.13"
  },
  "orig_nbformat": 4,
  "vscode": {
   "interpreter": {
    "hash": "d6b073d1ab65869aaf66aa4962178acf1c80128fee753b4c20dbc327d5cb2fe9"
   }
  }
 },
 "nbformat": 4,
 "nbformat_minor": 2
}
