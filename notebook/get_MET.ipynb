{
 "cells": [
  {
   "cell_type": "code",
   "execution_count": 19,
   "metadata": {},
   "outputs": [],
   "source": [
    "import struct as st"
   ]
  },
  {
   "cell_type": "code",
   "execution_count": 20,
   "metadata": {},
   "outputs": [],
   "source": [
    "# Load sample IRT data\n",
    "f = open(\"../data/ZENITH_220411_230827.MET\", \"rb\")\n",
    "bin = f.read()"
   ]
  },
  {
   "cell_type": "code",
   "execution_count": 21,
   "metadata": {},
   "outputs": [],
   "source": [
    "# Define getter\n",
    "def b_unpack(bd, pos, type='i'):\n",
    "    if type in ['i', 'f']:\n",
    "        return st.unpack(type, bd[pos:pos+4])\n",
    "    elif type == 'd':\n",
    "        return st.unpack(type, bd[pos:pos+8])\n",
    "    elif type == 'b':\n",
    "        return st.unpack(type, bd[pos:pos+1])\n",
    "    else:\n",
    "        raise TypeError(\"Invalid Type Reference\")"
   ]
  },
  {
   "cell_type": "code",
   "execution_count": 22,
   "metadata": {},
   "outputs": [
    {
     "name": "stdout",
     "output_type": "stream",
     "text": [
      "599658944\n"
     ]
    }
   ],
   "source": [
    "# New MET file code (599658944)\n",
    "print(b_unpack(bin, 0)[0])"
   ]
  },
  {
   "cell_type": "code",
   "execution_count": 23,
   "metadata": {},
   "outputs": [
    {
     "name": "stdout",
     "output_type": "stream",
     "text": [
      "1255\n"
     ]
    }
   ],
   "source": [
    "# Number of recorded samples\n",
    "sample_n = b_unpack(bin, 4)[0]\n",
    "print(sample_n)"
   ]
  },
  {
   "cell_type": "code",
   "execution_count": 28,
   "metadata": {},
   "outputs": [
    {
     "name": "stdout",
     "output_type": "stream",
     "text": [
      "0\n"
     ]
    }
   ],
   "source": [
    "a_sns = b_unpack(bin, 8, 'b')[0]\n",
    "print(a_sns)"
   ]
  },
  {
   "cell_type": "code",
   "execution_count": 34,
   "metadata": {},
   "outputs": [
    {
     "name": "stdout",
     "output_type": "stream",
     "text": [
      "1\n"
     ]
    }
   ],
   "source": [
    "# Time reference (1 for UTC)\n",
    "pos_0 = 8 + 1 + 4 * 6 + 8 * a_sns\n",
    "\n",
    "print(b_unpack(bin, pos_0, type='i')[0])"
   ]
  },
  {
   "cell_type": "code",
   "execution_count": 35,
   "metadata": {},
   "outputs": [],
   "source": [
    "pos_0 = pos_0 + 4"
   ]
  },
  {
   "cell_type": "code",
   "execution_count": 38,
   "metadata": {},
   "outputs": [],
   "source": [
    "# Get data row\n",
    "time = b_unpack(bin, pos_0, type='i')[0] % 86400 / 3600\n",
    "rf = b_unpack(bin, pos_0+4, type='b')[0]\n",
    "pres = b_unpack(bin, pos_0+5, type='f')[0]\n",
    "temp = b_unpack(bin, pos_0+9, type='f')[0]\n",
    "rh = b_unpack(bin, pos_0+13, type='f')[0]"
   ]
  },
  {
   "cell_type": "code",
   "execution_count": 39,
   "metadata": {},
   "outputs": [
    {
     "name": "stdout",
     "output_type": "stream",
     "text": [
      "23.140833333333333 0 1012.8200073242188 266.94000244140625 59.529998779296875\n"
     ]
    }
   ],
   "source": [
    "print(time, rf, pres, temp, rh)"
   ]
  },
  {
   "cell_type": "code",
   "execution_count": null,
   "metadata": {},
   "outputs": [],
   "source": []
  }
 ],
 "metadata": {
  "kernelspec": {
   "display_name": "Python 3.9.13",
   "language": "python",
   "name": "python3"
  },
  "language_info": {
   "codemirror_mode": {
    "name": "ipython",
    "version": 3
   },
   "file_extension": ".py",
   "mimetype": "text/x-python",
   "name": "python",
   "nbconvert_exporter": "python",
   "pygments_lexer": "ipython3",
   "version": "3.9.13"
  },
  "orig_nbformat": 4,
  "vscode": {
   "interpreter": {
    "hash": "d6b073d1ab65869aaf66aa4962178acf1c80128fee753b4c20dbc327d5cb2fe9"
   }
  }
 },
 "nbformat": 4,
 "nbformat_minor": 2
}
